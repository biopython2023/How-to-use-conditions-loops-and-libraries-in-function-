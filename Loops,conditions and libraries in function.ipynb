{
 "cells": [
  {
   "cell_type": "code",
   "execution_count": 2,
   "id": "c431ccd8-9034-4655-9ce8-215616a38b6e",
   "metadata": {},
   "outputs": [
    {
     "data": {
      "text/plain": [
       "\">X01714.1 E. coli dut gene for dUTPase (EC 3.6.1.23) (deoxyuridine 5'-triphosphate nucleotidohydrolase)\\nCAGAGAAAATCAAAAAGCAGGCCACGCAGGGTGATGAATTAACAATAAAAATGGTTAAAAACCCCGATAT\\nCGTCGCAGGCGTTGCCGCACTAAAAGACCATCGACCCTACGTCGTTGGATTTGCCGCCGAAACAAATAAT\\nGTGGAAGAATACGCCCGGCAAAAACGTATCCGTAAAAACCTTGATCTGATCTGCGCGAACGATGTTTCCC\\nAGCCAACTCAAGGATTTAACAGCGACAACAACGCATTACACCTTTTCTGGCAGGACGGAGATAAAGTCTT\\nACCGCTTGAGCGCAAAGAGCTCCTTGGCCAATTATTACTCGACGAGATCGTGACCCGTTATGATGAAAAA\\nAATCGACGTTAAGATTCTGGACCCGCGCGTTGGGAAGGAATTTCCGCTCCCGACTTATGCCACCTCTGGC\\nTCTGCCGGACTTGACCTGCGTGCCTGTCTCAACGACGCCGTAGAACTGGCTCCGGGTGACACTACGCTGG\\nTTCCGACCGGGCTGGCGATTCATATTGCCGATCCTTCACTGGCGGCAATGATGCTGCCGCGCTCCGGATT\\nGGGACATAAGCACGGTATCGTGCTTGGTAACCTGGTAGGATTGATCGATTCTGACTATCAGGGCCAGTTG\\nATGATTTCCGTGTGGAACCGTGGTCAGGACAGCTTCACCATTCAACCTGGCGAACGCATCGCCCAGATGA\\nTTTTTGTTCCGGTAGTACAGGCTGAATTTAATCTGGTGGAAGATTTCGACGCCACCGACCGCGGTGAAGG\\nCGGCTTTGGTCACTCTGGTCGTCAGTAACACATACGCATCCGAATAACGTCATAACATAGCCGCAAACAT\\nTTCGTTTGCGGTCATAGCGTGGGTGCCGCCTGGCAAGTGCTTATTTTCAGGGGTATTTTGTAACATGGCA\\nGAAAAACAAACTGCGAAAAGGAACCGTCGCGAGGAAATACTTCAGTCTCTGGCGCTGATGCTGGAATCCA\\nGCGATGGAAGCCAACGTATCACGACGGCAAAACTGGCCGCCTCTGTCGGCGTTTCCGAAGCGGCACTGTA\\nTCGCCACTTCCCCAGTAAGACCCGCATGTTCGATAGCCTGATTGAGTTTATCGAAGATAGCCTGATTACT\\nCGCATCAACCTGATTCTGAAAGATGAGAAAGACACCACAGCGCGCCTGCGTCTGATTGTGTTGCTGCTTC\\nTCGGTTTTGGTGAGCGTAATCCTGGCCTGACCCGCATCCTCACTGGTCATGCGCTAATGTTTGAACAGGA\\nTCGCCTGCAAGGGCGCATCAACCAGCTGTTCGAGCGTATTGAAGCGCAGCTGCGCCAGGTATTGCGTGAA\\nAAGAGAATGCGTGAGGGTGAAGGTTACACCACCGATGAAACCCTGCTGGCAAGCCAGATCCTGGCCTTCT\\nGTGAAGGTATGCTGTCACGTTTTGTCCGCAGCGAATTTAAATACCGCCCGACGGATGATTTTGACGCCCG\\nCTGGCCGCTAATTGCGGCCAGTTGCAGTAATATGACGCCGGATGACTTTTCATCCGGCGAGTTTCTTTAA\\nACGCCAAACTCTTCGCGATAGGCCTTAACCGCCGCCAGATGTTCCGCCATTTCCGGCTTCTCTTCCAGG\\n\\n\""
      ]
     },
     "execution_count": 2,
     "metadata": {},
     "output_type": "execute_result"
    }
   ],
   "source": [
    "dna_seq = open(r\"C:\\Users\\AMCUser\\Downloads\\dut.fasta\",'r')\n",
    "dna = dna_seq.read()\n",
    "dna"
   ]
  },
  {
   "cell_type": "code",
   "execution_count": 4,
   "id": "8e0333e1-d6a1-4f8b-ac7f-2fa62d5fbe26",
   "metadata": {},
   "outputs": [
    {
     "data": {
      "text/plain": [
       "'\\nCAGAGAAAATCAAAAAGCAGGCCACGCAGGGTGATGAATTAACAATAAAAATGGTTAAAAACCCCGATAT\\nCGTCGCAGGCGTTGCCGCACTAAAAGACCATCGACCCTACGTCGTTGGATTTGCCGCCGAAACAAATAAT\\nGTGGAAGAATACGCCCGGCAAAAACGTATCCGTAAAAACCTTGATCTGATCTGCGCGAACGATGTTTCCC\\nAGCCAACTCAAGGATTTAACAGCGACAACAACGCATTACACCTTTTCTGGCAGGACGGAGATAAAGTCTT\\nACCGCTTGAGCGCAAAGAGCTCCTTGGCCAATTATTACTCGACGAGATCGTGACCCGTTATGATGAAAAA\\nAATCGACGTTAAGATTCTGGACCCGCGCGTTGGGAAGGAATTTCCGCTCCCGACTTATGCCACCTCTGGC\\nTCTGCCGGACTTGACCTGCGTGCCTGTCTCAACGACGCCGTAGAACTGGCTCCGGGTGACACTACGCTGG\\nTTCCGACCGGGCTGGCGATTCATATTGCCGATCCTTCACTGGCGGCAATGATGCTGCCGCGCTCCGGATT\\nGGGACATAAGCACGGTATCGTGCTTGGTAACCTGGTAGGATTGATCGATTCTGACTATCAGGGCCAGTTG\\nATGATTTCCGTGTGGAACCGTGGTCAGGACAGCTTCACCATTCAACCTGGCGAACGCATCGCCCAGATGA\\nTTTTTGTTCCGGTAGTACAGGCTGAATTTAATCTGGTGGAAGATTTCGACGCCACCGACCGCGGTGAAGG\\nCGGCTTTGGTCACTCTGGTCGTCAGTAACACATACGCATCCGAATAACGTCATAACATAGCCGCAAACAT\\nTTCGTTTGCGGTCATAGCGTGGGTGCCGCCTGGCAAGTGCTTATTTTCAGGGGTATTTTGTAACATGGCA\\nGAAAAACAAACTGCGAAAAGGAACCGTCGCGAGGAAATACTTCAGTCTCTGGCGCTGATGCTGGAATCCA\\nGCGATGGAAGCCAACGTATCACGACGGCAAAACTGGCCGCCTCTGTCGGCGTTTCCGAAGCGGCACTGTA\\nTCGCCACTTCCCCAGTAAGACCCGCATGTTCGATAGCCTGATTGAGTTTATCGAAGATAGCCTGATTACT\\nCGCATCAACCTGATTCTGAAAGATGAGAAAGACACCACAGCGCGCCTGCGTCTGATTGTGTTGCTGCTTC\\nTCGGTTTTGGTGAGCGTAATCCTGGCCTGACCCGCATCCTCACTGGTCATGCGCTAATGTTTGAACAGGA\\nTCGCCTGCAAGGGCGCATCAACCAGCTGTTCGAGCGTATTGAAGCGCAGCTGCGCCAGGTATTGCGTGAA\\nAAGAGAATGCGTGAGGGTGAAGGTTACACCACCGATGAAACCCTGCTGGCAAGCCAGATCCTGGCCTTCT\\nGTGAAGGTATGCTGTCACGTTTTGTCCGCAGCGAATTTAAATACCGCCCGACGGATGATTTTGACGCCCG\\nCTGGCCGCTAATTGCGGCCAGTTGCAGTAATATGACGCCGGATGACTTTTCATCCGGCGAGTTTCTTTAA\\nACGCCAAACTCTTCGCGATAGGCCTTAACCGCCGCCAGATGTTCCGCCATTTCCGGCTTCTCTTCCAGG\\n\\n'"
      ]
     },
     "execution_count": 4,
     "metadata": {},
     "output_type": "execute_result"
    }
   ],
   "source": [
    "data = dna[103:]\n",
    "data"
   ]
  },
  {
   "cell_type": "code",
   "execution_count": 6,
   "id": "ecc20ba6-34a4-4e5b-92a7-412e329e9231",
   "metadata": {},
   "outputs": [
    {
     "data": {
      "text/plain": [
       "'CAGAGAAAATCAAAAAGCAGGCCACGCAGGGTGATGAATTAACAATAAAAATGGTTAAAAACCCCGATATCGTCGCAGGCGTTGCCGCACTAAAAGACCATCGACCCTACGTCGTTGGATTTGCCGCCGAAACAAATAATGTGGAAGAATACGCCCGGCAAAAACGTATCCGTAAAAACCTTGATCTGATCTGCGCGAACGATGTTTCCCAGCCAACTCAAGGATTTAACAGCGACAACAACGCATTACACCTTTTCTGGCAGGACGGAGATAAAGTCTTACCGCTTGAGCGCAAAGAGCTCCTTGGCCAATTATTACTCGACGAGATCGTGACCCGTTATGATGAAAAAAATCGACGTTAAGATTCTGGACCCGCGCGTTGGGAAGGAATTTCCGCTCCCGACTTATGCCACCTCTGGCTCTGCCGGACTTGACCTGCGTGCCTGTCTCAACGACGCCGTAGAACTGGCTCCGGGTGACACTACGCTGGTTCCGACCGGGCTGGCGATTCATATTGCCGATCCTTCACTGGCGGCAATGATGCTGCCGCGCTCCGGATTGGGACATAAGCACGGTATCGTGCTTGGTAACCTGGTAGGATTGATCGATTCTGACTATCAGGGCCAGTTGATGATTTCCGTGTGGAACCGTGGTCAGGACAGCTTCACCATTCAACCTGGCGAACGCATCGCCCAGATGATTTTTGTTCCGGTAGTACAGGCTGAATTTAATCTGGTGGAAGATTTCGACGCCACCGACCGCGGTGAAGGCGGCTTTGGTCACTCTGGTCGTCAGTAACACATACGCATCCGAATAACGTCATAACATAGCCGCAAACATTTCGTTTGCGGTCATAGCGTGGGTGCCGCCTGGCAAGTGCTTATTTTCAGGGGTATTTTGTAACATGGCAGAAAAACAAACTGCGAAAAGGAACCGTCGCGAGGAAATACTTCAGTCTCTGGCGCTGATGCTGGAATCCAGCGATGGAAGCCAACGTATCACGACGGCAAAACTGGCCGCCTCTGTCGGCGTTTCCGAAGCGGCACTGTATCGCCACTTCCCCAGTAAGACCCGCATGTTCGATAGCCTGATTGAGTTTATCGAAGATAGCCTGATTACTCGCATCAACCTGATTCTGAAAGATGAGAAAGACACCACAGCGCGCCTGCGTCTGATTGTGTTGCTGCTTCTCGGTTTTGGTGAGCGTAATCCTGGCCTGACCCGCATCCTCACTGGTCATGCGCTAATGTTTGAACAGGATCGCCTGCAAGGGCGCATCAACCAGCTGTTCGAGCGTATTGAAGCGCAGCTGCGCCAGGTATTGCGTGAAAAGAGAATGCGTGAGGGTGAAGGTTACACCACCGATGAAACCCTGCTGGCAAGCCAGATCCTGGCCTTCTGTGAAGGTATGCTGTCACGTTTTGTCCGCAGCGAATTTAAATACCGCCCGACGGATGATTTTGACGCCCGCTGGCCGCTAATTGCGGCCAGTTGCAGTAATATGACGCCGGATGACTTTTCATCCGGCGAGTTTCTTTAAACGCCAAACTCTTCGCGATAGGCCTTAACCGCCGCCAGATGTTCCGCCATTTCCGGCTTCTCTTCCAGG'"
      ]
     },
     "execution_count": 6,
     "metadata": {},
     "output_type": "execute_result"
    }
   ],
   "source": [
    "DNA = data.replace('\\n','')\n",
    "DNA"
   ]
  },
  {
   "cell_type": "code",
   "execution_count": 7,
   "id": "46a598fa-76e1-429b-9e8e-6fe026d96ee8",
   "metadata": {},
   "outputs": [
    {
     "data": {
      "text/plain": [
       "'CAGAGAAAAUCAAAAAGCAGGCCACGCAGGGUGAUGAAUUAACAAUAAAAAUGGUUAAAAACCCCGAUAUCGUCGCAGGCGUUGCCGCACUAAAAGACCAUCGACCCUACGUCGUUGGAUUUGCCGCCGAAACAAAUAAUGUGGAAGAAUACGCCCGGCAAAAACGUAUCCGUAAAAACCUUGAUCUGAUCUGCGCGAACGAUGUUUCCCAGCCAACUCAAGGAUUUAACAGCGACAACAACGCAUUACACCUUUUCUGGCAGGACGGAGAUAAAGUCUUACCGCUUGAGCGCAAAGAGCUCCUUGGCCAAUUAUUACUCGACGAGAUCGUGACCCGUUAUGAUGAAAAAAAUCGACGUUAAGAUUCUGGACCCGCGCGUUGGGAAGGAAUUUCCGCUCCCGACUUAUGCCACCUCUGGCUCUGCCGGACUUGACCUGCGUGCCUGUCUCAACGACGCCGUAGAACUGGCUCCGGGUGACACUACGCUGGUUCCGACCGGGCUGGCGAUUCAUAUUGCCGAUCCUUCACUGGCGGCAAUGAUGCUGCCGCGCUCCGGAUUGGGACAUAAGCACGGUAUCGUGCUUGGUAACCUGGUAGGAUUGAUCGAUUCUGACUAUCAGGGCCAGUUGAUGAUUUCCGUGUGGAACCGUGGUCAGGACAGCUUCACCAUUCAACCUGGCGAACGCAUCGCCCAGAUGAUUUUUGUUCCGGUAGUACAGGCUGAAUUUAAUCUGGUGGAAGAUUUCGACGCCACCGACCGCGGUGAAGGCGGCUUUGGUCACUCUGGUCGUCAGUAACACAUACGCAUCCGAAUAACGUCAUAACAUAGCCGCAAACAUUUCGUUUGCGGUCAUAGCGUGGGUGCCGCCUGGCAAGUGCUUAUUUUCAGGGGUAUUUUGUAACAUGGCAGAAAAACAAACUGCGAAAAGGAACCGUCGCGAGGAAAUACUUCAGUCUCUGGCGCUGAUGCUGGAAUCCAGCGAUGGAAGCCAACGUAUCACGACGGCAAAACUGGCCGCCUCUGUCGGCGUUUCCGAAGCGGCACUGUAUCGCCACUUCCCCAGUAAGACCCGCAUGUUCGAUAGCCUGAUUGAGUUUAUCGAAGAUAGCCUGAUUACUCGCAUCAACCUGAUUCUGAAAGAUGAGAAAGACACCACAGCGCGCCUGCGUCUGAUUGUGUUGCUGCUUCUCGGUUUUGGUGAGCGUAAUCCUGGCCUGACCCGCAUCCUCACUGGUCAUGCGCUAAUGUUUGAACAGGAUCGCCUGCAAGGGCGCAUCAACCAGCUGUUCGAGCGUAUUGAAGCGCAGCUGCGCCAGGUAUUGCGUGAAAAGAGAAUGCGUGAGGGUGAAGGUUACACCACCGAUGAAACCCUGCUGGCAAGCCAGAUCCUGGCCUUCUGUGAAGGUAUGCUGUCACGUUUUGUCCGCAGCGAAUUUAAAUACCGCCCGACGGAUGAUUUUGACGCCCGCUGGCCGCUAAUUGCGGCCAGUUGCAGUAAUAUGACGCCGGAUGACUUUUCAUCCGGCGAGUUUCUUUAAACGCCAAACUCUUCGCGAUAGGCCUUAACCGCCGCCAGAUGUUCCGCCAUUUCCGGCUUCUCUUCCAGG'"
      ]
     },
     "execution_count": 7,
     "metadata": {},
     "output_type": "execute_result"
    }
   ],
   "source": [
    "swap = DNA.replace('T','U')\n",
    "swap"
   ]
  },
  {
   "cell_type": "code",
   "execution_count": 57,
   "id": "cbd2aca6-c3e0-4798-ac05-9f0dd372651f",
   "metadata": {},
   "outputs": [
    {
     "name": "stdout",
     "output_type": "stream",
     "text": [
      "0.48\n"
     ]
    }
   ],
   "source": [
    "def AU_counter(gene,sig_figures):\n",
    "    AU =(gene.count(\"A\")+gene.count(\"U\"))/len(gene)\n",
    "    return(round(AU,sig_figures))\n",
    "print(AU_counter(swap,2))"
   ]
  },
  {
   "cell_type": "code",
   "execution_count": 59,
   "id": "ee749df2-dcf0-4021-91b3-58c092f49ef3",
   "metadata": {},
   "outputs": [
    {
     "name": "stdout",
     "output_type": "stream",
     "text": [
      "0.52\n"
     ]
    }
   ],
   "source": [
    "def GC_calculator(gene,sig_figures):\n",
    "    GC =(gene.count(\"G\")+gene.count(\"C\"))/len(gene)\n",
    "    return(round(GC,sig_figures))\n",
    "print(GC_counter(swap,2))"
   ]
  },
  {
   "cell_type": "code",
   "execution_count": null,
   "id": "865906e1-bbaa-47da-a026-bbb75fa3612b",
   "metadata": {},
   "outputs": [],
   "source": []
  },
  {
   "cell_type": "code",
   "execution_count": 14,
   "id": "09cbc3c1-6a2c-48f9-af17-58a145ba5aed",
   "metadata": {},
   "outputs": [
    {
     "name": "stdout",
     "output_type": "stream",
     "text": [
      "Stop Codon Found\n",
      "31\n",
      "UGA\n"
     ]
    }
   ],
   "source": [
    "#find the stop codon and its location\n",
    "if \"UGA\" in swap:\n",
    "    print(\"Stop Codon Found\")\n",
    "    a = swap.find(\"UGA\")\n",
    "    print(a)\n",
    "    print(swap[a:a+3])\n",
    "\n",
    "else: print(\"Not Found\")\n",
    "   "
   ]
  },
  {
   "cell_type": "code",
   "execution_count": 15,
   "id": "39c2606a-d80d-41d4-89ef-051eaa4ce97f",
   "metadata": {},
   "outputs": [
    {
     "name": "stdout",
     "output_type": "stream",
     "text": [
      "Not Found\n"
     ]
    }
   ],
   "source": [
    "if \"TAA\" in swap:\n",
    "    print(\"Stop Codon Found\")\n",
    "    a = swap.find(\"TAA\")\n",
    "    print(a)\n",
    "    print(swap[a:a+3])\n",
    "\n",
    "else: print(\"Not Found\")"
   ]
  },
  {
   "cell_type": "code",
   "execution_count": 20,
   "id": "05c6b63d-e49e-4757-b6af-7292c674fb8c",
   "metadata": {},
   "outputs": [
    {
     "data": {
      "text/plain": [
       "'CAGAGAAAAUCAAAAAGCAGGCCACGCAGGGUG'"
      ]
     },
     "execution_count": 20,
     "metadata": {},
     "output_type": "execute_result"
    }
   ],
   "source": [
    "#how to use loops with conditional statement to generate the reverse DNA sequence?\n",
    "mydna = swap[0:33]\n",
    "mydna\n"
   ]
  },
  {
   "cell_type": "code",
   "execution_count": 21,
   "id": "5b1eecce-ff7a-4e9a-9032-fcec5410ea6a",
   "metadata": {},
   "outputs": [
    {
     "name": "stdout",
     "output_type": "stream",
     "text": [
      "\n",
      " Below is the reverse DNA sequence: \n",
      "\n",
      "GUCUCUUUUAGUUUUUCGUCCGGUGCGUCCCAC"
     ]
    }
   ],
   "source": [
    "print(\"\\n Below is the reverse DNA sequence: \\n\")\n",
    "for i in mydna:\n",
    "    if i == 'A': print('U', end = '')\n",
    "    elif i == 'U': print('A', end = '')\n",
    "    elif i == 'G': print('C', end = '')\n",
    "    elif i == 'C': print('G', end = '')"
   ]
  },
  {
   "cell_type": "code",
   "execution_count": 22,
   "id": "5754ce82-5e45-4e26-86aa-9c8aa752e575",
   "metadata": {},
   "outputs": [
    {
     "name": "stdout",
     "output_type": "stream",
     "text": [
      "GUGGGACGCACCGGACGAAAAACUAAAAGAGAC\n"
     ]
    }
   ],
   "source": [
    "#How to reverse the sequence from end to start?\n",
    "seq = 'CAGAGAAAAUCAAAAAGCAGGCCACGCAGGGUG'\n",
    "reverse = seq[::-1]\n",
    "print(reverse)"
   ]
  },
  {
   "cell_type": "code",
   "execution_count": 24,
   "id": "a07a35ec-1111-422a-9fc9-07e1f393116f",
   "metadata": {},
   "outputs": [
    {
     "name": "stdout",
     "output_type": "stream",
     "text": [
      "CGGAACAAGAGCCCGGG\n"
     ]
    }
   ],
   "source": [
    "#How to get only the second element of the reversed sequence?\n",
    "seq = 'GUGGGACGCACCGGACGAAAAACUAAAAGAGAC'\n",
    "reverse = seq[::-2]\n",
    "print(reverse)"
   ]
  },
  {
   "cell_type": "code",
   "execution_count": 25,
   "id": "83b92409-2c53-4ad6-813b-8b3e5f446763",
   "metadata": {},
   "outputs": [
    {
     "name": "stdout",
     "output_type": "stream",
     "text": [
      "GGGCCCGAGAACAAGGC\n"
     ]
    }
   ],
   "source": [
    "#How to get the second element of the dna sequence from the beginning?\n",
    "seq = 'GUGGGACGCACCGGACGAAAAACUAAAAGAGAC'\n",
    "reverse = seq[::2]\n",
    "print(reverse)"
   ]
  },
  {
   "cell_type": "code",
   "execution_count": 29,
   "id": "98a1b1f9-0e5c-4db7-808d-b8471f4cbdf9",
   "metadata": {},
   "outputs": [
    {
     "name": "stdout",
     "output_type": "stream",
     "text": [
      "GGUG\n"
     ]
    }
   ],
   "source": [
    "Starts from index 3 of the sequence and goes backward.\n",
    "seq = 'GUGGGACGCACCGGACGAAAAACUAAAAGAGAC'\n",
    "reverse = seq[3::-1]\n",
    "print(reverse)"
   ]
  },
  {
   "cell_type": "code",
   "execution_count": 35,
   "id": "58166565-dec8-42d8-a2e9-d2e6f49b5eac",
   "metadata": {},
   "outputs": [
    {
     "name": "stdout",
     "output_type": "stream",
     "text": [
      "CAGAGAAAAUCAAAAAGCAGGCCACGCAGG\n"
     ]
    }
   ],
   "source": [
    "seq = 'GUGGGACGCACCGGACGAAAAACUAAAAGAGAC'\n",
    "reverse = seq[:2:-1]\n",
    "print(reverse)"
   ]
  },
  {
   "cell_type": "code",
   "execution_count": 37,
   "id": "748da877-39d4-4898-accd-7335c04c3eaf",
   "metadata": {},
   "outputs": [
    {
     "name": "stdout",
     "output_type": "stream",
     "text": [
      "33\n"
     ]
    }
   ],
   "source": [
    "#how to convert dna sequence to a list?\n",
    "print(len(seq))"
   ]
  },
  {
   "cell_type": "code",
   "execution_count": 38,
   "id": "b36a5bf2-e203-4a0a-a4de-442744c369b3",
   "metadata": {},
   "outputs": [
    {
     "data": {
      "text/plain": [
       "['GUGGGACGCACCGGACGAAAAACUAAAAGAGAC']"
      ]
     },
     "execution_count": 38,
     "metadata": {},
     "output_type": "execute_result"
    }
   ],
   "source": [
    "#Method 1\n",
    "y = seq[0:33].split()\n",
    "y"
   ]
  },
  {
   "cell_type": "code",
   "execution_count": 39,
   "id": "092399f4-773d-4c41-ab6c-bd6555a37610",
   "metadata": {},
   "outputs": [
    {
     "name": "stdout",
     "output_type": "stream",
     "text": [
      "['G']['U']['G']['G']['G']['A']['C']['G']['C']['A']['C']['C']['G']['G']['A']['C']['G']['A']['A']['A']['A']['A']['C']['U']['A']['A']['A']['A']['G']['A']['G']['A']['C']"
     ]
    }
   ],
   "source": [
    "#Method 2\n",
    "for i in seq[0:33]:\n",
    "    print(i.split(),end='')"
   ]
  },
  {
   "cell_type": "code",
   "execution_count": 40,
   "id": "46c45058-c675-4eeb-8714-929ff152f1f3",
   "metadata": {},
   "outputs": [
    {
     "name": "stdout",
     "output_type": "stream",
     "text": [
      "['G']\n",
      "['U']\n",
      "['G']\n",
      "['G']\n",
      "['G']\n",
      "['A']\n",
      "['C']\n",
      "['G']\n",
      "['C']\n",
      "['A']\n",
      "['C']\n",
      "['C']\n",
      "['G']\n",
      "['G']\n",
      "['A']\n",
      "['C']\n",
      "['G']\n",
      "['A']\n",
      "['A']\n",
      "['A']\n",
      "['A']\n",
      "['A']\n",
      "['C']\n",
      "['U']\n",
      "['A']\n",
      "['A']\n",
      "['A']\n",
      "['A']\n",
      "['G']\n",
      "['A']\n",
      "['G']\n",
      "['A']\n",
      "['C']\n"
     ]
    }
   ],
   "source": [
    "#Method 3\n",
    "for i in seq[0:33]:\n",
    "    print(i.split())"
   ]
  },
  {
   "cell_type": "code",
   "execution_count": 44,
   "id": "c37f99b3-d2de-4bea-a291-93d04ff1360f",
   "metadata": {},
   "outputs": [
    {
     "name": "stdout",
     "output_type": "stream",
     "text": [
      "[['G'], ['U'], ['G'], ['G'], ['G'], ['A'], ['C'], ['G'], ['C'], ['A'], ['C'], ['C'], ['G'], ['G'], ['A'], ['C'], ['G'], ['A'], ['A'], ['A'], ['A'], ['A'], ['C'], ['U'], ['A'], ['A'], ['A'], ['A'], ['G'], ['A'], ['G'], ['A'], ['C']]"
     ]
    }
   ],
   "source": [
    "z = ([i.split() for i in seq])\n",
    "print(z, end='')"
   ]
  },
  {
   "cell_type": "code",
   "execution_count": 46,
   "id": "3b9c06b2-f9f7-4b9e-a149-9d0fc3569c23",
   "metadata": {},
   "outputs": [
    {
     "data": {
      "text/plain": [
       "'GUGGGACGCACCGGACGAAAAACUAAAAGAGAC'"
      ]
     },
     "execution_count": 46,
     "metadata": {},
     "output_type": "execute_result"
    }
   ],
   "source": [
    "Dna = seq[0:33].split()\n",
    "Dna1 = ''.join(Dna)\n",
    "Dna1"
   ]
  },
  {
   "cell_type": "code",
   "execution_count": 48,
   "id": "555d8ce5-1fe6-449d-aa5b-05e93fdc0c3c",
   "metadata": {},
   "outputs": [
    {
     "data": {
      "text/plain": [
       "'C'"
      ]
     },
     "execution_count": 48,
     "metadata": {},
     "output_type": "execute_result"
    }
   ],
   "source": [
    "#generate random nucleotide pickers\n",
    "import random\n",
    "seq_sample = ['A','T','G','C']\n",
    "picker = random.choice(seq_sample)\n",
    "picker"
   ]
  },
  {
   "cell_type": "code",
   "execution_count": 60,
   "id": "4c168da8-a71b-4020-b44d-63ce0b0b8ca0",
   "metadata": {},
   "outputs": [
    {
     "name": "stdout",
     "output_type": "stream",
     "text": [
      "0.5\n"
     ]
    }
   ],
   "source": [
    "a = 'CAGAGAAAAUCAAAAAGCAGGCCACGCAGG'\n",
    "def GC_calc(Dna1,sig_figures = 2):\n",
    "    GC = round((a.count('G')+a.count('C'))/len(a),2)\n",
    "    return(round(GC,sig_figures))\n",
    "print(GC_calc(a,2))\n",
    "    \n",
    "          "
   ]
  },
  {
   "cell_type": "code",
   "execution_count": 74,
   "id": "ffaa2aa6-3792-4e02-89f7-0161b009355d",
   "metadata": {},
   "outputs": [
    {
     "ename": "IndentationError",
     "evalue": "unindent does not match any outer indentation level (<tokenize>, line 11)",
     "output_type": "error",
     "traceback": [
      "\u001b[1;36m  File \u001b[1;32m<tokenize>:11\u001b[1;36m\u001b[0m\n\u001b[1;33m    GC = round((StringDNA.count('G')+StringDNA.count('C'))/len(StringDNA),2)\u001b[0m\n\u001b[1;37m    ^\u001b[0m\n\u001b[1;31mIndentationError\u001b[0m\u001b[1;31m:\u001b[0m unindent does not match any outer indentation level\n"
     ]
    }
   ],
   "source": [
    "seq = 'CAGAGAAAAUCAAAAAGCAGGCCACGCAGG'\n",
    "def GC_calc(DNA,sig_figures):\n",
    "    DNA = [i.split() for i in DNA]\n",
    "    N = ['A','T','G','C']\n",
    "for n, i in enumerate (DNA):\n",
    "    if i == ['N']:\n",
    "        x = random.choice(N)\n",
    "        DNA[n] = x\n",
    "        Tostring = [''.join(i) for i in DNA]\n",
    "        StringDNA = ''.join(Tostring)\n",
    "       GC = round((StringDNA.count('G')+StringDNA.count('C'))/len(StringDNA),2)  \n",
    "output = \"Your DNA sequenc is:\", StringDNA,\"GC% is\", GC\n",
    "return(output)\n",
    "        GC_calc(seq,2)\n",
    "        "
   ]
  },
  {
   "cell_type": "code",
   "execution_count": 5,
   "id": "ff524d8f-8138-462e-b144-3ccbc6122da6",
   "metadata": {},
   "outputs": [
    {
     "name": "stdout",
     "output_type": "stream",
     "text": [
      "Your DNA sequence is: CAGAGAAAATCAAAAAGCAGGCCACGCAGG\n",
      "GC% is: 50.0%\n"
     ]
    }
   ],
   "source": [
    "import random\n",
    "\n",
    "def GC_calc(seq, sig_figures):\n",
    "    # Replace 'U' with 'T' to handle RNA sequences as DNA\n",
    "    seq = seq.replace('U', 'T')\n",
    "\n",
    "    # Calculate GC content\n",
    "    gc_count = seq.count('G') + seq.count('C')\n",
    "    gc_content = round((gc_count / len(seq)) * 100, sig_figures)\n",
    "    \n",
    "    output = f\"Your DNA sequence is: {seq}\\nGC% is: {gc_content}%\"\n",
    "    return output\n",
    "\n",
    "seq = 'CAGAGAAAAUCAAAAAGCAGGCCACGCAGG'\n",
    "print(GC_calc(seq, 2))"
   ]
  },
  {
   "cell_type": "code",
   "execution_count": 23,
   "id": "90f84412-50f3-4642-abee-6e50d2206c44",
   "metadata": {},
   "outputs": [
    {
     "name": "stdout",
     "output_type": "stream",
     "text": [
      "Your DNA sequence is: GAATGGGTCCTGTCAGCGCAGACTGTTAATCCTAATTCCAAAATGGGTCGCCTAAAAACGTAATTTAACA\n",
      "AAGGCGTAGAAATTGTCCGGCCAAGGGAAGTGAATTGCCCCAACGAAAGAACGCCCCCGAGTTTGGTCCC\n",
      "AGAACCTGAAGATCTGTCAATTGTCAAGGAGCGGTGGCATGAGAGTCGTAAGTCTCAATGCTAACCCTAA\n",
      "CCCTAACCCTAACCCTAACCCTAACCCTAACCCTAACCCTAACCCTAACCCTAACCCTAACCCTAACCCT\n",
      "AACCCTAACCCTAACCCTAACCCTAACCCTAACCTTAACCCTAACCCTAACCCTAACCCTAACCCTACCC\n",
      "CAACCCTAACCCTAACCCCTAACCCAAACCCCTACCCCAACCCAACCCCTAACCCTAACCCTAACCCTAA\n",
      "GC% is: 49.18 %\n",
      "length of the sequence is 425\n"
     ]
    }
   ],
   "source": [
    "#GC Content Project for DNA with unknown Ns in Python\n",
    "import random\n",
    "def GC_calc(seq, sig_figures):\n",
    "    # Replace 'U' with 'T' to handle RNA sequences as DNA\n",
    "    seq = seq.replace('U', 'T')\n",
    "    # List of valid nucleotide bases\n",
    "    N = ['A', 'T', 'G', 'C']\n",
    "    \n",
    "    # Replace 'N' with a random choice from N\n",
    "    seq = ''.join(random.choice(N) if base == 'N' else base for base in seq)\n",
    "\n",
    "    # Calculate GC content\n",
    "    gc_count = seq.count('G') + seq.count('C')\n",
    "    gc_content = round((gc_count / len(seq)*100), sig_figures)\n",
    "    \n",
    "    # Print the output\n",
    "    print(\"Your DNA sequence is:\", seq)\n",
    "    print(\"GC% is:\", gc_content,\"%\")\n",
    "    print(\"length of the sequence is\", len(seq))\n",
    "\n",
    "\n",
    "\n",
    "GC_calc(\"\"\"NNNNNNNNNNNNNNNNNNNNNNNNNNNNNNNNNNNNNNNNNNNNNNNNNNNNNNNNNNNNNNNNNNNNNN\n",
    "NNNNNNNNNNNNNNNNNNNNNNNNNNNNNNNNNNNNNNNNNNNNNNNNNNNNNNNNNNNNNNNNNNNNNN\n",
    "NNNNNNNNNNNNNNNNNNNNNNNNNNNNNNNNNNNNNNNNNNNNNNNNNNNNNNNNNNNNCTAACCCTAA\n",
    "CCCTAACCCTAACCCTAACCCTAACCCTAACCCTAACCCTAACCCTAACCCTAACCCTAACCCTAACCCT\n",
    "AACCCTAACCCTAACCCTAACCCTAACCCTAACCTTAACCCTAACCCTAACCCTAACCCTAACCCTACCC\n",
    "CAACCCTAACCCTAACCCCTAACCCAAACCCCTACCCCAACCCAACCCCTAACCCTAACCCTAACCCTAA\"\"\",2)"
   ]
  },
  {
   "cell_type": "code",
   "execution_count": 27,
   "id": "c79959b5-d9c3-4ef0-b281-6660a23ecb84",
   "metadata": {},
   "outputs": [
    {
     "data": {
      "text/plain": [
       "''"
      ]
     },
     "execution_count": 27,
     "metadata": {},
     "output_type": "execute_result"
    }
   ],
   "source": [
    "x = seq[202:]\n",
    "x"
   ]
  },
  {
   "cell_type": "code",
   "execution_count": 25,
   "id": "d627e51a-3185-4ee7-943c-9eb4d0a1a477",
   "metadata": {},
   "outputs": [
    {
     "data": {
      "text/plain": [
       "425"
      ]
     },
     "execution_count": 25,
     "metadata": {},
     "output_type": "execute_result"
    }
   ],
   "source": [
    "a =\"\"\"NNNNNNNNNNNNNNNNNNNNNNNNNNNNNNNNNNNNNNNNNNNNNNNNNNNNNNNNNNNNNNNNNNNNNN\n",
    "NNNNNNNNNNNNNNNNNNNNNNNNNNNNNNNNNNNNNNNNNNNNNNNNNNNNNNNNNNNNNNNNNNNNNN\n",
    "NNNNNNNNNNNNNNNNNNNNNNNNNNNNNNNNNNNNNNNNNNNNNNNNNNNNNNNNNNNNCTAACCCTAA\n",
    "CCCTAACCCTAACCCTAACCCTAACCCTAACCCTAACCCTAACCCTAACCCTAACCCTAACCCTAACCCT\n",
    "AACCCTAACCCTAACCCTAACCCTAACCCTAACCTTAACCCTAACCCTAACCCTAACCCTAACCCTACCC\n",
    "CAACCCTAACCCTAACCCCTAACCCAAACCCCTACCCCAACCCAACCCCTAACCCTAACCCTAACCCTAA\"\"\"\n",
    "b = len(a)\n",
    "b"
   ]
  },
  {
   "cell_type": "code",
   "execution_count": 34,
   "id": "983997e6-9dba-4b6a-bf9d-a671de7c22ff",
   "metadata": {},
   "outputs": [
    {
     "data": {
      "text/plain": [
       "'CTAACCCTAA\\nCCCTAACCCTAACCCTAACCCTAACCCTAACCCTAACCCTAACCCTAACCCTAACCCTAACCCTAACCCT\\nAACCCTAACCCTAACCCTAACCCTAACCCTAACCTTAACCCTAACCCTAACCCTAACCCTAACCCTACCC\\nCAACCCTAACCCTAACCCCTAACCCAAACCCCTACCCCAACCCAACCCCTAACCCTAACCCTAACCCTAA'"
      ]
     },
     "execution_count": 34,
     "metadata": {},
     "output_type": "execute_result"
    }
   ],
   "source": [
    " c = a[202:]\n",
    "c\n",
    "\n"
   ]
  },
  {
   "cell_type": "code",
   "execution_count": 35,
   "id": "06e76940-6faa-4194-8304-1ea1a477a752",
   "metadata": {},
   "outputs": [
    {
     "data": {
      "text/plain": [
       "'CTAACCCTAACCCTAACCCTAACCCTAACCCTAACCCTAACCCTAACCCTAACCCTAACCCTAACCCTAACCCTAACCCTAACCCTAACCCTAACCCTAACCCTAACCCTAACCTTAACCCTAACCCTAACCCTAACCCTAACCCTACCCCAACCCTAACCCTAACCCCTAACCCAAACCCCTACCCCAACCCAACCCCTAACCCTAACCCTAACCCTAA'"
      ]
     },
     "execution_count": 35,
     "metadata": {},
     "output_type": "execute_result"
    }
   ],
   "source": [
    "d = c.replace(\"\\n\",'')\n",
    "d"
   ]
  },
  {
   "cell_type": "code",
   "execution_count": 33,
   "id": "825ad7a6-a252-41d1-98ac-9241ad800bb6",
   "metadata": {},
   "outputs": [
    {
     "data": {
      "text/plain": [
       "220"
      ]
     },
     "execution_count": 33,
     "metadata": {},
     "output_type": "execute_result"
    }
   ],
   "source": [
    "e = len(d)\n",
    "e"
   ]
  },
  {
   "cell_type": "code",
   "execution_count": 26,
   "id": "3c1b3aac-baa6-4026-8cf1-20a4e239770c",
   "metadata": {},
   "outputs": [
    {
     "data": {
      "text/plain": [
       "202"
      ]
     },
     "execution_count": 26,
     "metadata": {},
     "output_type": "execute_result"
    }
   ],
   "source": [
    "c =\"\"\"NNNNNNNNNNNNNNNNNNNNNNNNNNNNNNNNNNNNNNNNNNNNNNNNNNNNNNNNNNNNNNNNNNNNNN\n",
    "NNNNNNNNNNNNNNNNNNNNNNNNNNNNNNNNNNNNNNNNNNNNNNNNNNNNNNNNNNNNNNNNNNNNNN\n",
    "NNNNNNNNNNNNNNNNNNNNNNNNNNNNNNNNNNNNNNNNNNNNNNNNNNNNNNNNNNNN\"\"\"\n",
    "d = len(c)\n",
    "d"
   ]
  },
  {
   "cell_type": "code",
   "execution_count": 31,
   "id": "c3342a54-7b2c-4c8f-b0a3-1ada00aecc2b",
   "metadata": {},
   "outputs": [
    {
     "data": {
      "text/plain": [
       "223"
      ]
     },
     "execution_count": 31,
     "metadata": {},
     "output_type": "execute_result"
    }
   ],
   "source": [
    "y = '''CTAACCCTAA\n",
    "CCCTAACCCTAACCCTAACCCTAACCCTAACCCTAACCCTAACCCTAACCCTAACCCTAACCCTAACCCT\n",
    "AACCCTAACCCTAACCCTAACCCTAACCCTAACCTTAACCCTAACCCTAACCCTAACCCTAACCCTACCC\n",
    "CAACCCTAACCCTAACCCCTAACCCAAACCCCTACCCCAACCCAACCCCTAACCCTAACCCTAACCCTAA'''\n",
    "z = len(y)\n",
    "z"
   ]
  },
  {
   "cell_type": "code",
   "execution_count": null,
   "id": "5c0023c1-87cd-4992-9baf-abfa07a8f3ef",
   "metadata": {},
   "outputs": [],
   "source": []
  }
 ],
 "metadata": {
  "kernelspec": {
   "display_name": "Python 3 (ipykernel)",
   "language": "python",
   "name": "python3"
  },
  "language_info": {
   "codemirror_mode": {
    "name": "ipython",
    "version": 3
   },
   "file_extension": ".py",
   "mimetype": "text/x-python",
   "name": "python",
   "nbconvert_exporter": "python",
   "pygments_lexer": "ipython3",
   "version": "3.11.7"
  }
 },
 "nbformat": 4,
 "nbformat_minor": 5
}
